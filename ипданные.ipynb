{
 "cells": [
  {
   "cell_type": "code",
   "execution_count": null,
   "metadata": {},
   "outputs": [],
   "source": []
  },
  {
   "cell_type": "markdown",
   "metadata": {},
   "source": [
    " # Итоговый проект // Лашков Илья // Анализ телеграм каналов транспорта Москвы"
   ]
  },
  {
   "cell_type": "markdown",
   "metadata": {},
   "source": []
  },
  {
   "cell_type": "markdown",
   "metadata": {},
   "source": [
    "Импортируем необходимые библиотеки"
   ]
  },
  {
   "cell_type": "code",
   "execution_count": 310,
   "metadata": {},
   "outputs": [],
   "source": [
    "import numpy as np\n",
    "import pandas as pd\n",
    "import matplotlib.pyplot as plt\n",
    "import json\n",
    "import re\n",
    "import calendar\n",
    "dorder = list(calendar.day_name)\n",
    "morder = list(calendar.month_name)"
   ]
  },
  {
   "cell_type": "markdown",
   "metadata": {},
   "source": [
    "Для создания проекта было экспортирована история 3 телеграм каналов :\n",
    "  - Дептранс Москвы \n",
    "  - Дептранс Оперативно \n",
    "  - Велобайк"
   ]
  },
  {
   "cell_type": "markdown",
   "metadata": {},
   "source": [
    "Преобразовываем данные JSON в словарь словарей, а далее создаем датафрейм"
   ]
  },
  {
   "cell_type": "code",
   "execution_count": 311,
   "metadata": {},
   "outputs": [
    {
     "name": "stdout",
     "output_type": "stream",
     "text": [
      "/Users/wilyash/Downloads/Telegram Desktop/DT_ChatExport_2025-03-24\n"
     ]
    }
   ],
   "source": [
    "cd \"/Users/wilyash/Downloads/Telegram Desktop/DT_ChatExport_2025-03-24\""
   ]
  },
  {
   "cell_type": "code",
   "execution_count": 312,
   "metadata": {},
   "outputs": [],
   "source": [
    "f1 = open('result.json', 'r', encoding='utf-8')\n",
    "data1 = json.load(f1)\n",
    "f1.close()"
   ]
  },
  {
   "cell_type": "code",
   "execution_count": 313,
   "metadata": {},
   "outputs": [],
   "source": [
    "d1 = {'date':[], 'from':[], 'text':[]}\n",
    "\n",
    "for message in data1['messages']:\n",
    "    if message['type'] == 'message':\n",
    "        d1['date'].append(message['date'])\n",
    "        d1['from'].append(message['from_id'])\n",
    "        if 'text' in message:\n",
    "            d1['text'].append(message['text'])\n",
    "        else:\n",
    "            d1['text'].append('')\n",
    "    else:\n",
    "        print(message) "
   ]
  },
  {
   "cell_type": "code",
   "execution_count": 314,
   "metadata": {},
   "outputs": [],
   "source": [
    "df1 = pd.DataFrame(d1)"
   ]
  },
  {
   "cell_type": "code",
   "execution_count": 315,
   "metadata": {},
   "outputs": [],
   "source": [
    "df1 = df1[df1['text'] != ''] "
   ]
  },
  {
   "cell_type": "code",
   "execution_count": 316,
   "metadata": {},
   "outputs": [],
   "source": [
    "df1['date'] = pd.to_datetime(df1['date'], format='%Y-%m-%dT%H:%M:%S')\n",
    "df1['from'].replace({'channel1029095426':'Дептранс_Москвы'}, inplace=True)"
   ]
  },
  {
   "cell_type": "markdown",
   "metadata": {},
   "source": [
    "Готов датафрейм канала \"Дептранс Москвы\", аналогичная операция для канала \"Дептранс.Оперативно\""
   ]
  },
  {
   "cell_type": "code",
   "execution_count": 317,
   "metadata": {},
   "outputs": [
    {
     "name": "stdout",
     "output_type": "stream",
     "text": [
      "/Users/wilyash/Downloads/Telegram Desktop/DTO_ChatExport_2025-03-24\n"
     ]
    }
   ],
   "source": [
    "cd \"/Users/wilyash/Downloads/Telegram Desktop/DTO_ChatExport_2025-03-24\""
   ]
  },
  {
   "cell_type": "code",
   "execution_count": 318,
   "metadata": {},
   "outputs": [],
   "source": [
    "f2 = open('result.json', 'r', encoding='utf-8')\n",
    "data2 = json.load(f2)\n",
    "f2.close()"
   ]
  },
  {
   "cell_type": "code",
   "execution_count": 319,
   "metadata": {},
   "outputs": [],
   "source": [
    "d2 = {'date':[], 'from':[], 'text':[]}\n",
    "\n",
    "for message in data2['messages']:\n",
    "    if message['type'] == 'message':\n",
    "        d2['date'].append(message['date'])\n",
    "        d2['from'].append(message['from_id'])\n",
    "        if 'text' in message:\n",
    "            d2['text'].append(message['text'])\n",
    "        else:\n",
    "            d2['text'].append('')\n",
    "    else:\n",
    "        print(message) "
   ]
  },
  {
   "cell_type": "code",
   "execution_count": 320,
   "metadata": {},
   "outputs": [],
   "source": [
    "df2 = pd.DataFrame(d2)"
   ]
  },
  {
   "cell_type": "code",
   "execution_count": 321,
   "metadata": {},
   "outputs": [],
   "source": [
    "df2 = df2[df2['text'] != ''] "
   ]
  },
  {
   "cell_type": "code",
   "execution_count": 322,
   "metadata": {},
   "outputs": [],
   "source": [
    "df2['date'] = pd.to_datetime(df2['date'], format='%Y-%m-%dT%H:%M:%S')\n",
    "df2['from'].replace({'channel1031559169':'Дептранс_Оперативно'}, inplace=True)"
   ]
  },
  {
   "cell_type": "markdown",
   "metadata": {},
   "source": [
    "И для канала \"Велобайк\" также приобразовываем данные"
   ]
  },
  {
   "cell_type": "code",
   "execution_count": 323,
   "metadata": {},
   "outputs": [
    {
     "name": "stdout",
     "output_type": "stream",
     "text": [
      "/Users/wilyash/Downloads/Telegram Desktop/VB_ChatExport_2025-03-24\n"
     ]
    }
   ],
   "source": [
    "cd \"/Users/wilyash/Downloads/Telegram Desktop/VB_ChatExport_2025-03-24\""
   ]
  },
  {
   "cell_type": "code",
   "execution_count": 324,
   "metadata": {},
   "outputs": [],
   "source": [
    "f3 = open('result.json', 'r', encoding='utf-8')\n",
    "data3 = json.load(f3)\n",
    "f3.close()"
   ]
  },
  {
   "cell_type": "code",
   "execution_count": 325,
   "metadata": {},
   "outputs": [],
   "source": [
    "d3 = {'date':[], 'from':[], 'text':[]}\n",
    "\n",
    "for message in data3['messages']:\n",
    "    if message['type'] == 'message':\n",
    "        d3['date'].append(message['date'])\n",
    "        d3['from'].append(message['from_id'])\n",
    "        if 'text' in message:\n",
    "            d3['text'].append(message['text'])\n",
    "        else:\n",
    "            d3['text'].append('')\n",
    "    else:\n",
    "        print(message) "
   ]
  },
  {
   "cell_type": "code",
   "execution_count": 326,
   "metadata": {},
   "outputs": [],
   "source": [
    "df3 = pd.DataFrame(d3)"
   ]
  },
  {
   "cell_type": "code",
   "execution_count": 327,
   "metadata": {},
   "outputs": [],
   "source": [
    "df3 = df3[df3['text'] != ''] "
   ]
  },
  {
   "cell_type": "code",
   "execution_count": 328,
   "metadata": {},
   "outputs": [],
   "source": [
    "df3['date'] = pd.to_datetime(df3['date'], format='%Y-%m-%dT%H:%M:%S')\n",
    "df3['from'].replace({'channel1676365391':'Велобайк'}, inplace=True)"
   ]
  },
  {
   "cell_type": "markdown",
   "metadata": {},
   "source": [
    "3 датафрейма готовы, следующим действием соединяем их в один."
   ]
  },
  {
   "cell_type": "code",
   "execution_count": 329,
   "metadata": {},
   "outputs": [],
   "source": [
    "dfs = pd.concat([df1, df2, df3], axis=0)"
   ]
  },
  {
   "cell_type": "markdown",
   "metadata": {},
   "source": [
    "Производим сортировку по дате, чтобы данные были в хронологическом порядке "
   ]
  },
  {
   "cell_type": "code",
   "execution_count": 330,
   "metadata": {},
   "outputs": [],
   "source": [
    "dfs = dfs.sort_values(by='date')"
   ]
  },
  {
   "cell_type": "markdown",
   "metadata": {},
   "source": [
    "Добавляем признаки дня недели, часа отправки сообщения, месяца и длинны сообщения для дальнейшего анализа"
   ]
  },
  {
   "cell_type": "code",
   "execution_count": 331,
   "metadata": {},
   "outputs": [],
   "source": [
    "dfs['day_of_week'] = dfs['date'].dt.day_name()"
   ]
  },
  {
   "cell_type": "code",
   "execution_count": 332,
   "metadata": {},
   "outputs": [],
   "source": [
    "dfs['month'] = dfs['date'].dt.month_name()"
   ]
  },
  {
   "cell_type": "code",
   "execution_count": 333,
   "metadata": {},
   "outputs": [],
   "source": [
    "dfs['length'] = dfs['text'].str.len()"
   ]
  },
  {
   "cell_type": "code",
   "execution_count": 334,
   "metadata": {},
   "outputs": [],
   "source": [
    "dfs['hour'] = pd.to_datetime(dfs['date']).dt.hour"
   ]
  },
  {
   "cell_type": "code",
   "execution_count": 335,
   "metadata": {},
   "outputs": [
    {
     "data": {
      "text/html": [
       "<div>\n",
       "<style scoped>\n",
       "    .dataframe tbody tr th:only-of-type {\n",
       "        vertical-align: middle;\n",
       "    }\n",
       "\n",
       "    .dataframe tbody tr th {\n",
       "        vertical-align: top;\n",
       "    }\n",
       "\n",
       "    .dataframe thead th {\n",
       "        text-align: right;\n",
       "    }\n",
       "</style>\n",
       "<table border=\"1\" class=\"dataframe\">\n",
       "  <thead>\n",
       "    <tr style=\"text-align: right;\">\n",
       "      <th></th>\n",
       "      <th>date</th>\n",
       "      <th>from</th>\n",
       "      <th>text</th>\n",
       "      <th>day_of_week</th>\n",
       "      <th>month</th>\n",
       "      <th>length</th>\n",
       "      <th>hour</th>\n",
       "    </tr>\n",
       "  </thead>\n",
       "  <tbody>\n",
       "    <tr>\n",
       "      <th>0</th>\n",
       "      <td>2024-03-24 10:01:07</td>\n",
       "      <td>Дептранс_Оперативно</td>\n",
       "      <td>С 00:01 до 21:00 25 марта на участке Суворовск...</td>\n",
       "      <td>Sunday</td>\n",
       "      <td>March</td>\n",
       "      <td>180</td>\n",
       "      <td>10</td>\n",
       "    </tr>\n",
       "    <tr>\n",
       "      <th>1</th>\n",
       "      <td>2024-03-24 10:30:52</td>\n",
       "      <td>Дептранс_Оперативно</td>\n",
       "      <td>С 25 марта до 5 апреля на участке Водопроводно...</td>\n",
       "      <td>Sunday</td>\n",
       "      <td>March</td>\n",
       "      <td>268</td>\n",
       "      <td>10</td>\n",
       "    </tr>\n",
       "    <tr>\n",
       "      <th>2</th>\n",
       "      <td>2024-03-24 11:02:01</td>\n",
       "      <td>Дептранс_Оперативно</td>\n",
       "      <td>С 25 марта до 21 мая на участке улицы Линии Ок...</td>\n",
       "      <td>Sunday</td>\n",
       "      <td>March</td>\n",
       "      <td>187</td>\n",
       "      <td>11</td>\n",
       "    </tr>\n",
       "    <tr>\n",
       "      <th>0</th>\n",
       "      <td>2024-03-24 11:31:04</td>\n",
       "      <td>Дептранс_Москвы</td>\n",
       "      <td>Поезда метро, а также автобусы, электробусы и ...</td>\n",
       "      <td>Sunday</td>\n",
       "      <td>March</td>\n",
       "      <td>625</td>\n",
       "      <td>11</td>\n",
       "    </tr>\n",
       "    <tr>\n",
       "      <th>1</th>\n",
       "      <td>2024-03-24 12:00:46</td>\n",
       "      <td>Дептранс_Москвы</td>\n",
       "      <td>[Сегодня мы снова дежурим у донорских центров....</td>\n",
       "      <td>Sunday</td>\n",
       "      <td>March</td>\n",
       "      <td>3</td>\n",
       "      <td>12</td>\n",
       "    </tr>\n",
       "    <tr>\n",
       "      <th>...</th>\n",
       "      <td>...</td>\n",
       "      <td>...</td>\n",
       "      <td>...</td>\n",
       "      <td>...</td>\n",
       "      <td>...</td>\n",
       "      <td>...</td>\n",
       "      <td>...</td>\n",
       "    </tr>\n",
       "    <tr>\n",
       "      <th>3892</th>\n",
       "      <td>2025-03-24 07:29:56</td>\n",
       "      <td>Дептранс_Оперативно</td>\n",
       "      <td>Доброе утро!\\n\\nВечером возможны локальные зат...</td>\n",
       "      <td>Monday</td>\n",
       "      <td>March</td>\n",
       "      <td>210</td>\n",
       "      <td>7</td>\n",
       "    </tr>\n",
       "    <tr>\n",
       "      <th>11004</th>\n",
       "      <td>2025-03-24 07:30:16</td>\n",
       "      <td>Дептранс_Москвы</td>\n",
       "      <td>Доброе утро!\\n\\nВечером возможны локальные зат...</td>\n",
       "      <td>Monday</td>\n",
       "      <td>March</td>\n",
       "      <td>210</td>\n",
       "      <td>7</td>\n",
       "    </tr>\n",
       "    <tr>\n",
       "      <th>11005</th>\n",
       "      <td>2025-03-24 09:01:12</td>\n",
       "      <td>Дептранс_Москвы</td>\n",
       "      <td>[Музей Транспорта Москвы отреставрировал автом...</td>\n",
       "      <td>Monday</td>\n",
       "      <td>March</td>\n",
       "      <td>7</td>\n",
       "      <td>9</td>\n",
       "    </tr>\n",
       "    <tr>\n",
       "      <th>11006</th>\n",
       "      <td>2025-03-24 09:31:09</td>\n",
       "      <td>Дептранс_Москвы</td>\n",
       "      <td>[Мы выпустили новый тематический «Единый», кот...</td>\n",
       "      <td>Monday</td>\n",
       "      <td>March</td>\n",
       "      <td>9</td>\n",
       "      <td>9</td>\n",
       "    </tr>\n",
       "    <tr>\n",
       "      <th>11007</th>\n",
       "      <td>2025-03-24 10:02:30</td>\n",
       "      <td>Дептранс_Москвы</td>\n",
       "      <td>[{'type': 'custom_emoji', 'text': '1⃣', 'docum...</td>\n",
       "      <td>Monday</td>\n",
       "      <td>March</td>\n",
       "      <td>14</td>\n",
       "      <td>10</td>\n",
       "    </tr>\n",
       "  </tbody>\n",
       "</table>\n",
       "<p>8238 rows × 7 columns</p>\n",
       "</div>"
      ],
      "text/plain": [
       "                     date                 from  \\\n",
       "0     2024-03-24 10:01:07  Дептранс_Оперативно   \n",
       "1     2024-03-24 10:30:52  Дептранс_Оперативно   \n",
       "2     2024-03-24 11:02:01  Дептранс_Оперативно   \n",
       "0     2024-03-24 11:31:04      Дептранс_Москвы   \n",
       "1     2024-03-24 12:00:46      Дептранс_Москвы   \n",
       "...                   ...                  ...   \n",
       "3892  2025-03-24 07:29:56  Дептранс_Оперативно   \n",
       "11004 2025-03-24 07:30:16      Дептранс_Москвы   \n",
       "11005 2025-03-24 09:01:12      Дептранс_Москвы   \n",
       "11006 2025-03-24 09:31:09      Дептранс_Москвы   \n",
       "11007 2025-03-24 10:02:30      Дептранс_Москвы   \n",
       "\n",
       "                                                    text day_of_week  month  \\\n",
       "0      С 00:01 до 21:00 25 марта на участке Суворовск...      Sunday  March   \n",
       "1      С 25 марта до 5 апреля на участке Водопроводно...      Sunday  March   \n",
       "2      С 25 марта до 21 мая на участке улицы Линии Ок...      Sunday  March   \n",
       "0      Поезда метро, а также автобусы, электробусы и ...      Sunday  March   \n",
       "1      [Сегодня мы снова дежурим у донорских центров....      Sunday  March   \n",
       "...                                                  ...         ...    ...   \n",
       "3892   Доброе утро!\\n\\nВечером возможны локальные зат...      Monday  March   \n",
       "11004  Доброе утро!\\n\\nВечером возможны локальные зат...      Monday  March   \n",
       "11005  [Музей Транспорта Москвы отреставрировал автом...      Monday  March   \n",
       "11006  [Мы выпустили новый тематический «Единый», кот...      Monday  March   \n",
       "11007  [{'type': 'custom_emoji', 'text': '1⃣', 'docum...      Monday  March   \n",
       "\n",
       "       length  hour  \n",
       "0         180    10  \n",
       "1         268    10  \n",
       "2         187    11  \n",
       "0         625    11  \n",
       "1           3    12  \n",
       "...       ...   ...  \n",
       "3892      210     7  \n",
       "11004     210     7  \n",
       "11005       7     9  \n",
       "11006       9     9  \n",
       "11007      14    10  \n",
       "\n",
       "[8238 rows x 7 columns]"
      ]
     },
     "execution_count": 335,
     "metadata": {},
     "output_type": "execute_result"
    }
   ],
   "source": [
    "dfs"
   ]
  },
  {
   "cell_type": "code",
   "execution_count": null,
   "metadata": {},
   "outputs": [],
   "source": []
  },
  {
   "cell_type": "code",
   "execution_count": 336,
   "metadata": {},
   "outputs": [
    {
     "data": {
      "text/html": [
       "<div>\n",
       "<style scoped>\n",
       "    .dataframe tbody tr th:only-of-type {\n",
       "        vertical-align: middle;\n",
       "    }\n",
       "\n",
       "    .dataframe tbody tr th {\n",
       "        vertical-align: top;\n",
       "    }\n",
       "\n",
       "    .dataframe thead th {\n",
       "        text-align: right;\n",
       "    }\n",
       "</style>\n",
       "<table border=\"1\" class=\"dataframe\">\n",
       "  <thead>\n",
       "    <tr style=\"text-align: right;\">\n",
       "      <th></th>\n",
       "      <th>date</th>\n",
       "      <th>from</th>\n",
       "      <th>text</th>\n",
       "      <th>day_of_week</th>\n",
       "      <th>month</th>\n",
       "      <th>length</th>\n",
       "      <th>hour</th>\n",
       "    </tr>\n",
       "  </thead>\n",
       "  <tbody>\n",
       "    <tr>\n",
       "      <th>0</th>\n",
       "      <td>2024-03-24 10:01:07</td>\n",
       "      <td>Дептранс_Оперативно</td>\n",
       "      <td>С 00:01 до 21:00 25 марта на участке Суворовск...</td>\n",
       "      <td>Sunday</td>\n",
       "      <td>March</td>\n",
       "      <td>180</td>\n",
       "      <td>10</td>\n",
       "    </tr>\n",
       "    <tr>\n",
       "      <th>1</th>\n",
       "      <td>2024-03-24 10:30:52</td>\n",
       "      <td>Дептранс_Оперативно</td>\n",
       "      <td>С 25 марта до 5 апреля на участке Водопроводно...</td>\n",
       "      <td>Sunday</td>\n",
       "      <td>March</td>\n",
       "      <td>268</td>\n",
       "      <td>10</td>\n",
       "    </tr>\n",
       "    <tr>\n",
       "      <th>2</th>\n",
       "      <td>2024-03-24 11:02:01</td>\n",
       "      <td>Дептранс_Оперативно</td>\n",
       "      <td>С 25 марта до 21 мая на участке улицы Линии Ок...</td>\n",
       "      <td>Sunday</td>\n",
       "      <td>March</td>\n",
       "      <td>187</td>\n",
       "      <td>11</td>\n",
       "    </tr>\n",
       "    <tr>\n",
       "      <th>0</th>\n",
       "      <td>2024-03-24 11:31:04</td>\n",
       "      <td>Дептранс_Москвы</td>\n",
       "      <td>Поезда метро, а также автобусы, электробусы и ...</td>\n",
       "      <td>Sunday</td>\n",
       "      <td>March</td>\n",
       "      <td>625</td>\n",
       "      <td>11</td>\n",
       "    </tr>\n",
       "    <tr>\n",
       "      <th>1</th>\n",
       "      <td>2024-03-24 12:00:46</td>\n",
       "      <td>Дептранс_Москвы</td>\n",
       "      <td>[Сегодня мы снова дежурим у донорских центров....</td>\n",
       "      <td>Sunday</td>\n",
       "      <td>March</td>\n",
       "      <td>3</td>\n",
       "      <td>12</td>\n",
       "    </tr>\n",
       "    <tr>\n",
       "      <th>...</th>\n",
       "      <td>...</td>\n",
       "      <td>...</td>\n",
       "      <td>...</td>\n",
       "      <td>...</td>\n",
       "      <td>...</td>\n",
       "      <td>...</td>\n",
       "      <td>...</td>\n",
       "    </tr>\n",
       "    <tr>\n",
       "      <th>3892</th>\n",
       "      <td>2025-03-24 07:29:56</td>\n",
       "      <td>Дептранс_Оперативно</td>\n",
       "      <td>Доброе утро!\\n\\nВечером возможны локальные зат...</td>\n",
       "      <td>Monday</td>\n",
       "      <td>March</td>\n",
       "      <td>210</td>\n",
       "      <td>7</td>\n",
       "    </tr>\n",
       "    <tr>\n",
       "      <th>11004</th>\n",
       "      <td>2025-03-24 07:30:16</td>\n",
       "      <td>Дептранс_Москвы</td>\n",
       "      <td>Доброе утро!\\n\\nВечером возможны локальные зат...</td>\n",
       "      <td>Monday</td>\n",
       "      <td>March</td>\n",
       "      <td>210</td>\n",
       "      <td>7</td>\n",
       "    </tr>\n",
       "    <tr>\n",
       "      <th>11005</th>\n",
       "      <td>2025-03-24 09:01:12</td>\n",
       "      <td>Дептранс_Москвы</td>\n",
       "      <td>[Музей Транспорта Москвы отреставрировал автом...</td>\n",
       "      <td>Monday</td>\n",
       "      <td>March</td>\n",
       "      <td>7</td>\n",
       "      <td>9</td>\n",
       "    </tr>\n",
       "    <tr>\n",
       "      <th>11006</th>\n",
       "      <td>2025-03-24 09:31:09</td>\n",
       "      <td>Дептранс_Москвы</td>\n",
       "      <td>[Мы выпустили новый тематический «Единый», кот...</td>\n",
       "      <td>Monday</td>\n",
       "      <td>March</td>\n",
       "      <td>9</td>\n",
       "      <td>9</td>\n",
       "    </tr>\n",
       "    <tr>\n",
       "      <th>11007</th>\n",
       "      <td>2025-03-24 10:02:30</td>\n",
       "      <td>Дептранс_Москвы</td>\n",
       "      <td>[{'type': 'custom_emoji', 'text': '1⃣', 'docum...</td>\n",
       "      <td>Monday</td>\n",
       "      <td>March</td>\n",
       "      <td>14</td>\n",
       "      <td>10</td>\n",
       "    </tr>\n",
       "  </tbody>\n",
       "</table>\n",
       "<p>8238 rows × 7 columns</p>\n",
       "</div>"
      ],
      "text/plain": [
       "                     date                 from  \\\n",
       "0     2024-03-24 10:01:07  Дептранс_Оперативно   \n",
       "1     2024-03-24 10:30:52  Дептранс_Оперативно   \n",
       "2     2024-03-24 11:02:01  Дептранс_Оперативно   \n",
       "0     2024-03-24 11:31:04      Дептранс_Москвы   \n",
       "1     2024-03-24 12:00:46      Дептранс_Москвы   \n",
       "...                   ...                  ...   \n",
       "3892  2025-03-24 07:29:56  Дептранс_Оперативно   \n",
       "11004 2025-03-24 07:30:16      Дептранс_Москвы   \n",
       "11005 2025-03-24 09:01:12      Дептранс_Москвы   \n",
       "11006 2025-03-24 09:31:09      Дептранс_Москвы   \n",
       "11007 2025-03-24 10:02:30      Дептранс_Москвы   \n",
       "\n",
       "                                                    text day_of_week  month  \\\n",
       "0      С 00:01 до 21:00 25 марта на участке Суворовск...      Sunday  March   \n",
       "1      С 25 марта до 5 апреля на участке Водопроводно...      Sunday  March   \n",
       "2      С 25 марта до 21 мая на участке улицы Линии Ок...      Sunday  March   \n",
       "0      Поезда метро, а также автобусы, электробусы и ...      Sunday  March   \n",
       "1      [Сегодня мы снова дежурим у донорских центров....      Sunday  March   \n",
       "...                                                  ...         ...    ...   \n",
       "3892   Доброе утро!\\n\\nВечером возможны локальные зат...      Monday  March   \n",
       "11004  Доброе утро!\\n\\nВечером возможны локальные зат...      Monday  March   \n",
       "11005  [Музей Транспорта Москвы отреставрировал автом...      Monday  March   \n",
       "11006  [Мы выпустили новый тематический «Единый», кот...      Monday  March   \n",
       "11007  [{'type': 'custom_emoji', 'text': '1⃣', 'docum...      Monday  March   \n",
       "\n",
       "       length  hour  \n",
       "0         180    10  \n",
       "1         268    10  \n",
       "2         187    11  \n",
       "0         625    11  \n",
       "1           3    12  \n",
       "...       ...   ...  \n",
       "3892      210     7  \n",
       "11004     210     7  \n",
       "11005       7     9  \n",
       "11006       9     9  \n",
       "11007      14    10  \n",
       "\n",
       "[8238 rows x 7 columns]"
      ]
     },
     "execution_count": 336,
     "metadata": {},
     "output_type": "execute_result"
    }
   ],
   "source": [
    "dfs"
   ]
  },
  {
   "cell_type": "markdown",
   "metadata": {},
   "source": [
    " ### **АНАЛИЗ ДАТАФРЕЙМА**"
   ]
  },
  {
   "cell_type": "markdown",
   "metadata": {},
   "source": [
    "Для начала я возьму все три канала, и проанализирую в какой час дня публикуется больше всего сообщений."
   ]
  },
  {
   "cell_type": "code",
   "execution_count": 337,
   "metadata": {},
   "outputs": [
    {
     "data": {
      "text/plain": [
       "<Axes: xlabel='hour'>"
      ]
     },
     "execution_count": 337,
     "metadata": {},
     "output_type": "execute_result"
    },
    {
     "data": {
      "image/png": "[encoded data removed]",
      "text/plain": [
       "<Figure size 640x480 with 1 Axes>"
      ]
     },
     "metadata": {},
     "output_type": "display_data"
    }
   ],
   "source": [
    "dfs.groupby('hour')['from'].value_counts().unstack().plot()\n"
   ]
  },
  {
   "cell_type": "code",
   "execution_count": 338,
   "metadata": {},
   "outputs": [
    {
     "data": {
      "text/html": [
       "<div>\n",
       "<style scoped>\n",
       "    .dataframe tbody tr th:only-of-type {\n",
       "        vertical-align: middle;\n",
       "    }\n",
       "\n",
       "    .dataframe tbody tr th {\n",
       "        vertical-align: top;\n",
       "    }\n",
       "\n",
       "    .dataframe thead th {\n",
       "        text-align: right;\n",
       "    }\n",
       "</style>\n",
       "<table border=\"1\" class=\"dataframe\">\n",
       "  <thead>\n",
       "    <tr style=\"text-align: right;\">\n",
       "      <th>from</th>\n",
       "      <th>Велобайк</th>\n",
       "      <th>Дептранс_Москвы</th>\n",
       "      <th>Дептранс_Оперативно</th>\n",
       "    </tr>\n",
       "    <tr>\n",
       "      <th>hour</th>\n",
       "      <th></th>\n",
       "      <th></th>\n",
       "      <th></th>\n",
       "    </tr>\n",
       "  </thead>\n",
       "  <tbody>\n",
       "    <tr>\n",
       "      <th>0</th>\n",
       "      <td>NaN</td>\n",
       "      <td>1.0</td>\n",
       "      <td>39.0</td>\n",
       "    </tr>\n",
       "    <tr>\n",
       "      <th>1</th>\n",
       "      <td>NaN</td>\n",
       "      <td>NaN</td>\n",
       "      <td>32.0</td>\n",
       "    </tr>\n",
       "    <tr>\n",
       "      <th>2</th>\n",
       "      <td>NaN</td>\n",
       "      <td>NaN</td>\n",
       "      <td>24.0</td>\n",
       "    </tr>\n",
       "    <tr>\n",
       "      <th>3</th>\n",
       "      <td>NaN</td>\n",
       "      <td>NaN</td>\n",
       "      <td>14.0</td>\n",
       "    </tr>\n",
       "    <tr>\n",
       "      <th>4</th>\n",
       "      <td>NaN</td>\n",
       "      <td>NaN</td>\n",
       "      <td>19.0</td>\n",
       "    </tr>\n",
       "    <tr>\n",
       "      <th>5</th>\n",
       "      <td>NaN</td>\n",
       "      <td>NaN</td>\n",
       "      <td>21.0</td>\n",
       "    </tr>\n",
       "    <tr>\n",
       "      <th>6</th>\n",
       "      <td>NaN</td>\n",
       "      <td>NaN</td>\n",
       "      <td>33.0</td>\n",
       "    </tr>\n",
       "    <tr>\n",
       "      <th>7</th>\n",
       "      <td>NaN</td>\n",
       "      <td>251.0</td>\n",
       "      <td>316.0</td>\n",
       "    </tr>\n",
       "    <tr>\n",
       "      <th>8</th>\n",
       "      <td>2.0</td>\n",
       "      <td>82.0</td>\n",
       "      <td>104.0</td>\n",
       "    </tr>\n",
       "    <tr>\n",
       "      <th>9</th>\n",
       "      <td>29.0</td>\n",
       "      <td>338.0</td>\n",
       "      <td>149.0</td>\n",
       "    </tr>\n",
       "    <tr>\n",
       "      <th>10</th>\n",
       "      <td>42.0</td>\n",
       "      <td>425.0</td>\n",
       "      <td>410.0</td>\n",
       "    </tr>\n",
       "    <tr>\n",
       "      <th>11</th>\n",
       "      <td>15.0</td>\n",
       "      <td>409.0</td>\n",
       "      <td>202.0</td>\n",
       "    </tr>\n",
       "    <tr>\n",
       "      <th>12</th>\n",
       "      <td>43.0</td>\n",
       "      <td>439.0</td>\n",
       "      <td>167.0</td>\n",
       "    </tr>\n",
       "    <tr>\n",
       "      <th>13</th>\n",
       "      <td>14.0</td>\n",
       "      <td>426.0</td>\n",
       "      <td>180.0</td>\n",
       "    </tr>\n",
       "    <tr>\n",
       "      <th>14</th>\n",
       "      <td>11.0</td>\n",
       "      <td>398.0</td>\n",
       "      <td>252.0</td>\n",
       "    </tr>\n",
       "    <tr>\n",
       "      <th>15</th>\n",
       "      <td>8.0</td>\n",
       "      <td>198.0</td>\n",
       "      <td>262.0</td>\n",
       "    </tr>\n",
       "    <tr>\n",
       "      <th>16</th>\n",
       "      <td>14.0</td>\n",
       "      <td>379.0</td>\n",
       "      <td>250.0</td>\n",
       "    </tr>\n",
       "    <tr>\n",
       "      <th>17</th>\n",
       "      <td>18.0</td>\n",
       "      <td>345.0</td>\n",
       "      <td>312.0</td>\n",
       "    </tr>\n",
       "    <tr>\n",
       "      <th>18</th>\n",
       "      <td>4.0</td>\n",
       "      <td>341.0</td>\n",
       "      <td>294.0</td>\n",
       "    </tr>\n",
       "    <tr>\n",
       "      <th>19</th>\n",
       "      <td>NaN</td>\n",
       "      <td>172.0</td>\n",
       "      <td>219.0</td>\n",
       "    </tr>\n",
       "    <tr>\n",
       "      <th>20</th>\n",
       "      <td>1.0</td>\n",
       "      <td>42.0</td>\n",
       "      <td>192.0</td>\n",
       "    </tr>\n",
       "    <tr>\n",
       "      <th>21</th>\n",
       "      <td>1.0</td>\n",
       "      <td>6.0</td>\n",
       "      <td>106.0</td>\n",
       "    </tr>\n",
       "    <tr>\n",
       "      <th>22</th>\n",
       "      <td>1.0</td>\n",
       "      <td>14.0</td>\n",
       "      <td>97.0</td>\n",
       "    </tr>\n",
       "    <tr>\n",
       "      <th>23</th>\n",
       "      <td>NaN</td>\n",
       "      <td>12.0</td>\n",
       "      <td>63.0</td>\n",
       "    </tr>\n",
       "  </tbody>\n",
       "</table>\n",
       "</div>"
      ],
      "text/plain": [
       "from  Велобайк  Дептранс_Москвы  Дептранс_Оперативно\n",
       "hour                                                \n",
       "0          NaN              1.0                 39.0\n",
       "1          NaN              NaN                 32.0\n",
       "2          NaN              NaN                 24.0\n",
       "3          NaN              NaN                 14.0\n",
       "4          NaN              NaN                 19.0\n",
       "5          NaN              NaN                 21.0\n",
       "6          NaN              NaN                 33.0\n",
       "7          NaN            251.0                316.0\n",
       "8          2.0             82.0                104.0\n",
       "9         29.0            338.0                149.0\n",
       "10        42.0            425.0                410.0\n",
       "11        15.0            409.0                202.0\n",
       "12        43.0            439.0                167.0\n",
       "13        14.0            426.0                180.0\n",
       "14        11.0            398.0                252.0\n",
       "15         8.0            198.0                262.0\n",
       "16        14.0            379.0                250.0\n",
       "17        18.0            345.0                312.0\n",
       "18         4.0            341.0                294.0\n",
       "19         NaN            172.0                219.0\n",
       "20         1.0             42.0                192.0\n",
       "21         1.0              6.0                106.0\n",
       "22         1.0             14.0                 97.0\n",
       "23         NaN             12.0                 63.0"
      ]
     },
     "execution_count": 338,
     "metadata": {},
     "output_type": "execute_result"
    }
   ],
   "source": [
    "dfs.groupby('hour')['from'].value_counts().unstack()"
   ]
  },
  {
   "cell_type": "markdown",
   "metadata": {},
   "source": [
    "Ознакомившись с графиком и сводной таблицей можно сделать вывод, что наибольший пик приходится на дневное время. У Велобайка и Дептранса это 12 часов дня. У Дептранс.Оперативно это 10 утра. Также можно увидеть, что Дептранс.Оперативно вещает круглосуточно, в то время как другие каналы уходят ночью на перерыв."
   ]
  },
  {
   "cell_type": "code",
   "execution_count": 339,
   "metadata": {},
   "outputs": [
    {
     "data": {
      "text/html": [
       "<div>\n",
       "<style scoped>\n",
       "    .dataframe tbody tr th:only-of-type {\n",
       "        vertical-align: middle;\n",
       "    }\n",
       "\n",
       "    .dataframe tbody tr th {\n",
       "        vertical-align: top;\n",
       "    }\n",
       "\n",
       "    .dataframe thead th {\n",
       "        text-align: right;\n",
       "    }\n",
       "</style>\n",
       "<table border=\"1\" class=\"dataframe\">\n",
       "  <thead>\n",
       "    <tr style=\"text-align: right;\">\n",
       "      <th>from</th>\n",
       "      <th>Велобайк</th>\n",
       "      <th>Дептранс_Москвы</th>\n",
       "      <th>Дептранс_Оперативно</th>\n",
       "    </tr>\n",
       "    <tr>\n",
       "      <th>day_of_week</th>\n",
       "      <th></th>\n",
       "      <th></th>\n",
       "      <th></th>\n",
       "    </tr>\n",
       "  </thead>\n",
       "  <tbody>\n",
       "    <tr>\n",
       "      <th>Monday</th>\n",
       "      <td>35</td>\n",
       "      <td>604</td>\n",
       "      <td>544</td>\n",
       "    </tr>\n",
       "    <tr>\n",
       "      <th>Tuesday</th>\n",
       "      <td>26</td>\n",
       "      <td>610</td>\n",
       "      <td>503</td>\n",
       "    </tr>\n",
       "    <tr>\n",
       "      <th>Wednesday</th>\n",
       "      <td>27</td>\n",
       "      <td>683</td>\n",
       "      <td>526</td>\n",
       "    </tr>\n",
       "    <tr>\n",
       "      <th>Thursday</th>\n",
       "      <td>32</td>\n",
       "      <td>677</td>\n",
       "      <td>660</td>\n",
       "    </tr>\n",
       "    <tr>\n",
       "      <th>Friday</th>\n",
       "      <td>53</td>\n",
       "      <td>716</td>\n",
       "      <td>929</td>\n",
       "    </tr>\n",
       "    <tr>\n",
       "      <th>Saturday</th>\n",
       "      <td>21</td>\n",
       "      <td>516</td>\n",
       "      <td>336</td>\n",
       "    </tr>\n",
       "    <tr>\n",
       "      <th>Sunday</th>\n",
       "      <td>9</td>\n",
       "      <td>472</td>\n",
       "      <td>259</td>\n",
       "    </tr>\n",
       "  </tbody>\n",
       "</table>\n",
       "</div>"
      ],
      "text/plain": [
       "from         Велобайк  Дептранс_Москвы  Дептранс_Оперативно\n",
       "day_of_week                                                \n",
       "Monday             35              604                  544\n",
       "Tuesday            26              610                  503\n",
       "Wednesday          27              683                  526\n",
       "Thursday           32              677                  660\n",
       "Friday             53              716                  929\n",
       "Saturday           21              516                  336\n",
       "Sunday              9              472                  259"
      ]
     },
     "execution_count": 339,
     "metadata": {},
     "output_type": "execute_result"
    }
   ],
   "source": [
    "dfs.groupby(['day_of_week'])['from'].value_counts().unstack().reindex(dorder)"
   ]
  },
  {
   "cell_type": "code",
   "execution_count": 340,
   "metadata": {},
   "outputs": [
    {
     "data": {
      "text/plain": [
       "<Axes: xlabel='day_of_week'>"
      ]
     },
     "execution_count": 340,
     "metadata": {},
     "output_type": "execute_result"
    },
    {
     "data": {
      "image/png": "[encoded data removed]",
      "text/plain": [
       "<Figure size 640x480 with 1 Axes>"
      ]
     },
     "metadata": {},
     "output_type": "display_data"
    }
   ],
   "source": [
    "dfs.groupby(['day_of_week'])['from'].value_counts().unstack().reindex(dorder).plot(kind='bar')"
   ]
  },
  {
   "cell_type": "markdown",
   "metadata": {},
   "source": [
    "Представлена сводная таблица по дням недели. Здесь можно увидеть, что больше всего сообщений было отправлено в пятницу. Здесь пик активности всех трех каналов. Наименьшии показатели также совпадают, Воскресенье - самый неактивный день."
   ]
  },
  {
   "cell_type": "code",
   "execution_count": 341,
   "metadata": {},
   "outputs": [
    {
     "data": {
      "text/html": [
       "<div>\n",
       "<style scoped>\n",
       "    .dataframe tbody tr th:only-of-type {\n",
       "        vertical-align: middle;\n",
       "    }\n",
       "\n",
       "    .dataframe tbody tr th {\n",
       "        vertical-align: top;\n",
       "    }\n",
       "\n",
       "    .dataframe thead th {\n",
       "        text-align: right;\n",
       "    }\n",
       "</style>\n",
       "<table border=\"1\" class=\"dataframe\">\n",
       "  <thead>\n",
       "    <tr style=\"text-align: right;\">\n",
       "      <th>from</th>\n",
       "      <th>Велобайк</th>\n",
       "      <th>Дептранс_Москвы</th>\n",
       "      <th>Дептранс_Оперативно</th>\n",
       "    </tr>\n",
       "    <tr>\n",
       "      <th>month</th>\n",
       "      <th></th>\n",
       "      <th></th>\n",
       "      <th></th>\n",
       "    </tr>\n",
       "  </thead>\n",
       "  <tbody>\n",
       "    <tr>\n",
       "      <th></th>\n",
       "      <td>NaN</td>\n",
       "      <td>NaN</td>\n",
       "      <td>NaN</td>\n",
       "    </tr>\n",
       "    <tr>\n",
       "      <th>January</th>\n",
       "      <td>9.0</td>\n",
       "      <td>256.0</td>\n",
       "      <td>205.0</td>\n",
       "    </tr>\n",
       "    <tr>\n",
       "      <th>February</th>\n",
       "      <td>7.0</td>\n",
       "      <td>286.0</td>\n",
       "      <td>216.0</td>\n",
       "    </tr>\n",
       "    <tr>\n",
       "      <th>March</th>\n",
       "      <td>15.0</td>\n",
       "      <td>322.0</td>\n",
       "      <td>292.0</td>\n",
       "    </tr>\n",
       "    <tr>\n",
       "      <th>April</th>\n",
       "      <td>19.0</td>\n",
       "      <td>374.0</td>\n",
       "      <td>302.0</td>\n",
       "    </tr>\n",
       "    <tr>\n",
       "      <th>May</th>\n",
       "      <td>21.0</td>\n",
       "      <td>395.0</td>\n",
       "      <td>388.0</td>\n",
       "    </tr>\n",
       "    <tr>\n",
       "      <th>June</th>\n",
       "      <td>20.0</td>\n",
       "      <td>374.0</td>\n",
       "      <td>372.0</td>\n",
       "    </tr>\n",
       "    <tr>\n",
       "      <th>July</th>\n",
       "      <td>23.0</td>\n",
       "      <td>414.0</td>\n",
       "      <td>321.0</td>\n",
       "    </tr>\n",
       "    <tr>\n",
       "      <th>August</th>\n",
       "      <td>16.0</td>\n",
       "      <td>388.0</td>\n",
       "      <td>353.0</td>\n",
       "    </tr>\n",
       "    <tr>\n",
       "      <th>September</th>\n",
       "      <td>20.0</td>\n",
       "      <td>391.0</td>\n",
       "      <td>283.0</td>\n",
       "    </tr>\n",
       "    <tr>\n",
       "      <th>October</th>\n",
       "      <td>22.0</td>\n",
       "      <td>353.0</td>\n",
       "      <td>335.0</td>\n",
       "    </tr>\n",
       "    <tr>\n",
       "      <th>November</th>\n",
       "      <td>18.0</td>\n",
       "      <td>328.0</td>\n",
       "      <td>347.0</td>\n",
       "    </tr>\n",
       "    <tr>\n",
       "      <th>December</th>\n",
       "      <td>13.0</td>\n",
       "      <td>397.0</td>\n",
       "      <td>343.0</td>\n",
       "    </tr>\n",
       "  </tbody>\n",
       "</table>\n",
       "</div>"
      ],
      "text/plain": [
       "from       Велобайк  Дептранс_Москвы  Дептранс_Оперативно\n",
       "month                                                    \n",
       "                NaN              NaN                  NaN\n",
       "January         9.0            256.0                205.0\n",
       "February        7.0            286.0                216.0\n",
       "March          15.0            322.0                292.0\n",
       "April          19.0            374.0                302.0\n",
       "May            21.0            395.0                388.0\n",
       "June           20.0            374.0                372.0\n",
       "July           23.0            414.0                321.0\n",
       "August         16.0            388.0                353.0\n",
       "September      20.0            391.0                283.0\n",
       "October        22.0            353.0                335.0\n",
       "November       18.0            328.0                347.0\n",
       "December       13.0            397.0                343.0"
      ]
     },
     "execution_count": 341,
     "metadata": {},
     "output_type": "execute_result"
    }
   ],
   "source": [
    "dfs.groupby(['month'])['from'].value_counts().unstack().reindex(morder)\n"
   ]
  },
  {
   "cell_type": "code",
   "execution_count": 342,
   "metadata": {},
   "outputs": [
    {
     "data": {
      "text/plain": [
       "<Axes: xlabel='day_of_week'>"
      ]
     },
     "execution_count": 342,
     "metadata": {},
     "output_type": "execute_result"
    },
    {
     "data": {
      "image/png": "[encoded data removed]",
      "text/plain": [
       "<Figure size 640x480 with 1 Axes>"
      ]
     },
     "metadata": {},
     "output_type": "display_data"
    }
   ],
   "source": [
    "dfs.groupby(['day_of_week'])['from'].value_counts().unstack().reindex(dorder).plot()"
   ]
  },
  {
   "cell_type": "markdown",
   "metadata": {},
   "source": [
    "Если смотреть на таблицу по месяцам, то у Велобайка можно заметить пик активности с Марта по Ноябрь, те месяцы когда проходил Велосезон. Дептранс Москвы и Дептранс.Оперативно достаточно стабильны в течении года, но оба проявляют наименьшую активность в Январе и Фервале."
   ]
  },
  {
   "cell_type": "markdown",
   "metadata": {},
   "source": [
    "### АНАЛИЗ ДАТАФРЕЙМОВ ПО КАНАЛОВ"
   ]
  },
  {
   "cell_type": "code",
   "execution_count": 343,
   "metadata": {},
   "outputs": [],
   "source": [
    "dfs_vb = dfs[dfs['from'] == 'Велобайк']"
   ]
  },
  {
   "cell_type": "code",
   "execution_count": 344,
   "metadata": {},
   "outputs": [
    {
     "data": {
      "text/plain": [
       "<Axes: xlabel='hour'>"
      ]
     },
     "execution_count": 344,
     "metadata": {},
     "output_type": "execute_result"
    },
    {
     "data": {
      "image/png": "[encoded data removed]",
      "text/plain": [
       "<Figure size 640x480 with 1 Axes>"
      ]
     },
     "metadata": {},
     "output_type": "display_data"
    }
   ],
   "source": [
    "dfs_vb.groupby('hour').size().plot(kind='bar')"
   ]
  },
  {
   "cell_type": "code",
   "execution_count": 345,
   "metadata": {},
   "outputs": [],
   "source": [
    "dfs_dt = dfs[dfs['from'] == 'Дептранс_Москвы']\n"
   ]
  },
  {
   "cell_type": "code",
   "execution_count": 346,
   "metadata": {},
   "outputs": [
    {
     "data": {
      "text/plain": [
       "<Axes: xlabel='hour'>"
      ]
     },
     "execution_count": 346,
     "metadata": {},
     "output_type": "execute_result"
    },
    {
     "data": {
      "image/png": "[encoded data removed]",
      "text/plain": [
       "<Figure size 640x480 with 1 Axes>"
      ]
     },
     "metadata": {},
     "output_type": "display_data"
    }
   ],
   "source": [
    "dfs_dt.groupby('hour').size().plot(kind='bar')"
   ]
  },
  {
   "cell_type": "code",
   "execution_count": 347,
   "metadata": {},
   "outputs": [],
   "source": [
    "dfs_dto = dfs[dfs['from'] == 'Дептранс_Оперативно']"
   ]
  },
  {
   "cell_type": "code",
   "execution_count": 348,
   "metadata": {},
   "outputs": [
    {
     "data": {
      "text/plain": [
       "<Axes: xlabel='hour'>"
      ]
     },
     "execution_count": 348,
     "metadata": {},
     "output_type": "execute_result"
    },
    {
     "data": {
      "image/png": "[encoded data removed]",
      "text/plain": [
       "<Figure size 640x480 with 1 Axes>"
      ]
     },
     "metadata": {},
     "output_type": "display_data"
    }
   ],
   "source": [
    "dfs_dto.groupby('hour').size().plot(kind='bar')"
   ]
  },
  {
   "cell_type": "markdown",
   "metadata": {},
   "source": [
    "Столбчатые диаграммы показывают нам схожую ситуацию, наибольшая активность Дептранс.Оперативно в 7, 10 и 19 часов."
   ]
  },
  {
   "cell_type": "markdown",
   "metadata": {},
   "source": [
    "#### Далее я хочу проанализировать сообщения о падении человека на пути. \n",
    "Для этого я создаю новый признак 'body' и считаю количество сообщений по дням недели, часу и месяцу."
   ]
  },
  {
   "cell_type": "code",
   "execution_count": 349,
   "metadata": {},
   "outputs": [
    {
     "name": "stderr",
     "output_type": "stream",
     "text": [
      "/var/folders/bm/5gs1kgnj6lq967kw6cprhdqr0000gn/T/ipykernel_22752/2515743219.py:1: SettingWithCopyWarning: \n",
      "A value is trying to be set on a copy of a slice from a DataFrame.\n",
      "Try using .loc[row_indexer,col_indexer] = value instead\n",
      "\n",
      "See the caveats in the documentation: https://pandas.pydata.org/pandas-docs/stable/user_guide/indexing.html#returning-a-view-versus-a-copy\n",
      "  dfs_dto['body'] = dfs_dto['text'].apply(lambda x: 1 if 'человека на пути' in x else 0)\n"
     ]
    }
   ],
   "source": [
    "dfs_dto['body'] = dfs_dto['text'].apply(lambda x: 1 if 'человека на пути' in x else 0)"
   ]
  },
  {
   "cell_type": "code",
   "execution_count": 350,
   "metadata": {},
   "outputs": [
    {
     "data": {
      "text/plain": [
       "<Axes: xlabel='day_of_week'>"
      ]
     },
     "execution_count": 350,
     "metadata": {},
     "output_type": "execute_result"
    },
    {
     "data": {
      "image/png": "[encoded data removed]",
      "text/plain": [
       "<Figure size 640x480 with 1 Axes>"
      ]
     },
     "metadata": {},
     "output_type": "display_data"
    }
   ],
   "source": [
    "dfs_dto[dfs_dto['body'] == 1].groupby('day_of_week').size().reindex(dorder).plot(kind='line')"
   ]
  },
  {
   "cell_type": "code",
   "execution_count": 351,
   "metadata": {},
   "outputs": [
    {
     "data": {
      "text/plain": [
       "month\n",
       "             NaN\n",
       "January      2.0\n",
       "February     4.0\n",
       "March        2.0\n",
       "April        5.0\n",
       "May          4.0\n",
       "June         2.0\n",
       "July         1.0\n",
       "August       3.0\n",
       "September    4.0\n",
       "October      7.0\n",
       "November     6.0\n",
       "December     6.0\n",
       "dtype: float64"
      ]
     },
     "execution_count": 351,
     "metadata": {},
     "output_type": "execute_result"
    }
   ],
   "source": [
    "dfs_dto[dfs_dto['body'] == 1].groupby('month').size().reindex(morder)\n"
   ]
  },
  {
   "cell_type": "code",
   "execution_count": 352,
   "metadata": {},
   "outputs": [
    {
     "data": {
      "text/plain": [
       "<Axes: xlabel='month'>"
      ]
     },
     "execution_count": 352,
     "metadata": {},
     "output_type": "execute_result"
    },
    {
     "data": {
      "image/png": "[encoded data removed]",
      "text/plain": [
       "<Figure size 640x480 with 1 Axes>"
      ]
     },
     "metadata": {},
     "output_type": "display_data"
    }
   ],
   "source": [
    "dfs_dto[dfs_dto['body'] == 1].groupby('month').size().reindex(morder).plot(kind=\"bar\")\n"
   ]
  },
  {
   "cell_type": "code",
   "execution_count": 353,
   "metadata": {},
   "outputs": [
    {
     "data": {
      "text/plain": [
       "hour\n",
       "0     1\n",
       "6     2\n",
       "7     3\n",
       "8     3\n",
       "10    2\n",
       "11    2\n",
       "12    2\n",
       "13    1\n",
       "14    2\n",
       "15    1\n",
       "16    3\n",
       "17    4\n",
       "18    2\n",
       "19    8\n",
       "20    4\n",
       "21    4\n",
       "22    2\n",
       "dtype: int64"
      ]
     },
     "execution_count": 353,
     "metadata": {},
     "output_type": "execute_result"
    }
   ],
   "source": [
    "dfs_dto[dfs_dto['body'] == 1].groupby('hour').size()"
   ]
  },
  {
   "cell_type": "code",
   "execution_count": 354,
   "metadata": {},
   "outputs": [
    {
     "data": {
      "text/plain": [
       "<Axes: xlabel='hour'>"
      ]
     },
     "execution_count": 354,
     "metadata": {},
     "output_type": "execute_result"
    },
    {
     "data": {
      "image/png": "[encoded data removed]",
      "text/plain": [
       "<Figure size 640x480 with 1 Axes>"
      ]
     },
     "metadata": {},
     "output_type": "display_data"
    }
   ],
   "source": [
    "dfs_dto[dfs_dto['body'] == 1].groupby('hour').size().plot(kind='bar')"
   ]
  },
  {
   "cell_type": "markdown",
   "metadata": {},
   "source": [
    "В итоге было выяснено, что люди чаще всего прыгают под рельсы в 7 часов вечера, в Октябре прыгнуло больше всего людей за последний год, и больше всего прыжков пришлось на среду и четверг."
   ]
  },
  {
   "cell_type": "markdown",
   "metadata": {},
   "source": [
    "Далее я узнаю насколько часто авторы каналов о транспорте желают свои читателям Доброе утро."
   ]
  },
  {
   "cell_type": "code",
   "execution_count": 355,
   "metadata": {},
   "outputs": [],
   "source": [
    "dfs['GM'] = dfs['text'].apply(lambda x: 1 if 'Доброе утро' in x else 0)"
   ]
  },
  {
   "cell_type": "code",
   "execution_count": 356,
   "metadata": {},
   "outputs": [
    {
     "data": {
      "text/plain": [
       "<Axes: xlabel='day_of_week'>"
      ]
     },
     "execution_count": 356,
     "metadata": {},
     "output_type": "execute_result"
    },
    {
     "data": {
      "image/png": "[encoded data removed]",
      "text/plain": [
       "<Figure size 640x480 with 1 Axes>"
      ]
     },
     "metadata": {},
     "output_type": "display_data"
    }
   ],
   "source": [
    "dfs[dfs['GM'] == 1].groupby('day_of_week')['from'].value_counts().unstack().reindex(dorder).plot(kind=\"bar\")"
   ]
  },
  {
   "cell_type": "code",
   "execution_count": 357,
   "metadata": {},
   "outputs": [
    {
     "data": {
      "text/plain": [
       "<Axes: xlabel='month'>"
      ]
     },
     "execution_count": 357,
     "metadata": {},
     "output_type": "execute_result"
    },
    {
     "data": {
      "image/png": "[encoded data removed]",
      "text/plain": [
       "<Figure size 640x480 with 1 Axes>"
      ]
     },
     "metadata": {},
     "output_type": "display_data"
    }
   ],
   "source": [
    "dfs[dfs['GM'] == 1].groupby('month')['from'].value_counts().unstack().plot(kind='bar')"
   ]
  },
  {
   "cell_type": "markdown",
   "metadata": {},
   "source": [
    "Доброе утро желают авторы канала Дептранс Оперативно и Дептранс Москвы в равной степени только по будням."
   ]
  },
  {
   "cell_type": "markdown",
   "metadata": {},
   "source": []
  },
  {
   "cell_type": "code",
   "execution_count": 358,
   "metadata": {},
   "outputs": [
    {
     "name": "stderr",
     "output_type": "stream",
     "text": [
      "/var/folders/bm/5gs1kgnj6lq967kw6cprhdqr0000gn/T/ipykernel_22752/1184495355.py:1: SettingWithCopyWarning: \n",
      "A value is trying to be set on a copy of a slice from a DataFrame.\n",
      "Try using .loc[row_indexer,col_indexer] = value instead\n",
      "\n",
      "See the caveats in the documentation: https://pandas.pydata.org/pandas-docs/stable/user_guide/indexing.html#returning-a-view-versus-a-copy\n",
      "  dfs_dto['closing'] = dfs_dto['text'].apply(lambda x: 1 if any(substring in x for substring in ['перекрытие', 'закрыто', 'задерживаются', 'Движение', 'недоступно', 'временно']) else 0)\n"
     ]
    }
   ],
   "source": [
    "dfs_dto['closing'] = dfs_dto['text'].apply(lambda x: 1 if any(substring in x for substring in ['перекрытие', 'закрыто', 'задерживаются', 'Движение', 'недоступно', 'временно']) else 0)"
   ]
  },
  {
   "cell_type": "code",
   "execution_count": 359,
   "metadata": {},
   "outputs": [
    {
     "data": {
      "text/plain": [
       "<Axes: xlabel='hour'>"
      ]
     },
     "execution_count": 359,
     "metadata": {},
     "output_type": "execute_result"
    },
    {
     "data": {
      "image/png": "[encoded data removed]",
      "text/plain": [
       "<Figure size 640x480 with 1 Axes>"
      ]
     },
     "metadata": {},
     "output_type": "display_data"
    }
   ],
   "source": [
    "dfs_dto[dfs_dto['closing'] == 1].groupby('hour').size().plot(kind='bar')"
   ]
  },
  {
   "cell_type": "markdown",
   "metadata": {},
   "source": [
    " Также больше всего перекрытий, затруднений движений и прочих транспортных проишествий приходится на 10 и 19 часов."
   ]
  },
  {
   "cell_type": "markdown",
   "metadata": {},
   "source": []
  }
 ],
 "metadata": {
  "kernelspec": {
   "display_name": "base",
   "language": "python",
   "name": "python3"
  },
  "language_info": {
   "codemirror_mode": {
    "name": "ipython",
    "version": 3
   },
   "file_extension": ".py",
   "mimetype": "text/x-python",
   "name": "python",
   "nbconvert_exporter": "python",
   "pygments_lexer": "ipython3",
   "version": "3.11.7"
  }
 },
 "nbformat": 4,
 "nbformat_minor": 2
}
